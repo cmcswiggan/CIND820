{
 "cells": [
  {
   "cell_type": "code",
   "execution_count": 37,
   "id": "8f56b94b",
   "metadata": {},
   "outputs": [
    {
     "name": "stderr",
     "output_type": "stream",
     "text": [
      "[nltk_data] Downloading package wordnet to C:\\Users\\Ciaran\n",
      "[nltk_data]     Mc\\AppData\\Roaming\\nltk_data...\n",
      "[nltk_data]   Package wordnet is already up-to-date!\n",
      "[nltk_data] Downloading package stopwords to C:\\Users\\Ciaran\n",
      "[nltk_data]     Mc\\AppData\\Roaming\\nltk_data...\n",
      "[nltk_data]   Package stopwords is already up-to-date!\n",
      "[nltk_data] Downloading package punkt to C:\\Users\\Ciaran\n",
      "[nltk_data]     Mc\\AppData\\Roaming\\nltk_data...\n",
      "[nltk_data]   Package punkt is already up-to-date!\n",
      "[nltk_data] Downloading package omw-1.4 to C:\\Users\\Ciaran\n",
      "[nltk_data]     Mc\\AppData\\Roaming\\nltk_data...\n",
      "[nltk_data]   Package omw-1.4 is already up-to-date!\n"
     ]
    }
   ],
   "source": [
    "#import pkgs\n",
    "import pandas as pd\n",
    "import numpy as np\n",
    "import requests\n",
    "import string\n",
    "import nltk\n",
    "import matplotlib.pyplot as plt\n",
    "from io import BytesIO\n",
    "from nltk.stem import WordNetLemmatizer\n",
    "from sklearn.model_selection import train_test_split\n",
    "from sklearn.metrics import confusion_matrix\n",
    "from sklearn import metrics\n",
    "nltk.download('wordnet')\n",
    "nltk.download('stopwords')\n",
    "nltk.download('punkt')\n",
    "nltk.download('omw-1.4')\n",
    "lemmatizer = WordNetLemmatizer()"
   ]
  },
  {
   "cell_type": "code",
   "execution_count": 5,
   "id": "7e378c21",
   "metadata": {},
   "outputs": [
    {
     "data": {
      "text/html": [
       "<div>\n",
       "<style scoped>\n",
       "    .dataframe tbody tr th:only-of-type {\n",
       "        vertical-align: middle;\n",
       "    }\n",
       "\n",
       "    .dataframe tbody tr th {\n",
       "        vertical-align: top;\n",
       "    }\n",
       "\n",
       "    .dataframe thead th {\n",
       "        text-align: right;\n",
       "    }\n",
       "</style>\n",
       "<table border=\"1\" class=\"dataframe\">\n",
       "  <thead>\n",
       "    <tr style=\"text-align: right;\">\n",
       "      <th></th>\n",
       "      <th>Category</th>\n",
       "      <th>SMS Message</th>\n",
       "    </tr>\n",
       "  </thead>\n",
       "  <tbody>\n",
       "    <tr>\n",
       "      <th>0</th>\n",
       "      <td>ham</td>\n",
       "      <td>Go until jurong point, crazy.. Available only ...</td>\n",
       "    </tr>\n",
       "    <tr>\n",
       "      <th>1</th>\n",
       "      <td>ham</td>\n",
       "      <td>Ok lar... Joking wif u oni...</td>\n",
       "    </tr>\n",
       "    <tr>\n",
       "      <th>2</th>\n",
       "      <td>spam</td>\n",
       "      <td>Free entry in 2 a wkly comp to win FA Cup fina...</td>\n",
       "    </tr>\n",
       "    <tr>\n",
       "      <th>3</th>\n",
       "      <td>ham</td>\n",
       "      <td>U dun say so early hor... U c already then say...</td>\n",
       "    </tr>\n",
       "    <tr>\n",
       "      <th>4</th>\n",
       "      <td>ham</td>\n",
       "      <td>Nah I don't think he goes to usf, he lives aro...</td>\n",
       "    </tr>\n",
       "  </tbody>\n",
       "</table>\n",
       "</div>"
      ],
      "text/plain": [
       "  Category                                        SMS Message\n",
       "0      ham  Go until jurong point, crazy.. Available only ...\n",
       "1      ham                      Ok lar... Joking wif u oni...\n",
       "2     spam  Free entry in 2 a wkly comp to win FA Cup fina...\n",
       "3      ham  U dun say so early hor... U c already then say...\n",
       "4      ham  Nah I don't think he goes to usf, he lives aro..."
      ]
     },
     "execution_count": 5,
     "metadata": {},
     "output_type": "execute_result"
    }
   ],
   "source": [
    "#load data from github\n",
    "url = 'https://raw.githubusercontent.com/cmcswiggan/CIND820/main/SMS_Spam_Dataset'\n",
    "data = requests.get(url).content\n",
    "smsData = pd.read_csv(BytesIO(data), sep = '\\t', header = None, names = ['Category', 'SMS Message'])\n",
    "\n",
    "#check data loaded as expected\n",
    "smsData.head()"
   ]
  },
  {
   "cell_type": "code",
   "execution_count": 38,
   "id": "ae0c5b49",
   "metadata": {},
   "outputs": [
    {
     "data": {
      "text/html": [
       "<div>\n",
       "<style scoped>\n",
       "    .dataframe tbody tr th:only-of-type {\n",
       "        vertical-align: middle;\n",
       "    }\n",
       "\n",
       "    .dataframe tbody tr th {\n",
       "        vertical-align: top;\n",
       "    }\n",
       "\n",
       "    .dataframe thead th {\n",
       "        text-align: right;\n",
       "    }\n",
       "</style>\n",
       "<table border=\"1\" class=\"dataframe\">\n",
       "  <thead>\n",
       "    <tr style=\"text-align: right;\">\n",
       "      <th></th>\n",
       "      <th>Category</th>\n",
       "      <th>SMS Message</th>\n",
       "      <th>Processed</th>\n",
       "    </tr>\n",
       "  </thead>\n",
       "  <tbody>\n",
       "    <tr>\n",
       "      <th>0</th>\n",
       "      <td>ham</td>\n",
       "      <td>Go until jurong point, crazy.. Available only ...</td>\n",
       "      <td>[Go, until, jurong, point,, crazy.., Available...</td>\n",
       "    </tr>\n",
       "    <tr>\n",
       "      <th>1</th>\n",
       "      <td>ham</td>\n",
       "      <td>Ok lar... Joking wif u oni...</td>\n",
       "      <td>[Ok, lar..., Joking, wif, u, oni...]</td>\n",
       "    </tr>\n",
       "    <tr>\n",
       "      <th>2</th>\n",
       "      <td>spam</td>\n",
       "      <td>Free entry in 2 a wkly comp to win FA Cup fina...</td>\n",
       "      <td>[Free, entry, in, 2, a, wkly, comp, to, win, F...</td>\n",
       "    </tr>\n",
       "    <tr>\n",
       "      <th>3</th>\n",
       "      <td>ham</td>\n",
       "      <td>U dun say so early hor... U c already then say...</td>\n",
       "      <td>[U, dun, say, so, early, hor..., U, c, already...</td>\n",
       "    </tr>\n",
       "    <tr>\n",
       "      <th>4</th>\n",
       "      <td>ham</td>\n",
       "      <td>Nah I don't think he goes to usf, he lives aro...</td>\n",
       "      <td>[Nah, I, don't, think, he, goes, to, usf,, he,...</td>\n",
       "    </tr>\n",
       "  </tbody>\n",
       "</table>\n",
       "</div>"
      ],
      "text/plain": [
       "  Category                                        SMS Message  \\\n",
       "0      ham  Go until jurong point, crazy.. Available only ...   \n",
       "1      ham                      Ok lar... Joking wif u oni...   \n",
       "2     spam  Free entry in 2 a wkly comp to win FA Cup fina...   \n",
       "3      ham  U dun say so early hor... U c already then say...   \n",
       "4      ham  Nah I don't think he goes to usf, he lives aro...   \n",
       "\n",
       "                                           Processed  \n",
       "0  [Go, until, jurong, point,, crazy.., Available...  \n",
       "1               [Ok, lar..., Joking, wif, u, oni...]  \n",
       "2  [Free, entry, in, 2, a, wkly, comp, to, win, F...  \n",
       "3  [U, dun, say, so, early, hor..., U, c, already...  \n",
       "4  [Nah, I, don't, think, he, goes, to, usf,, he,...  "
      ]
     },
     "execution_count": 38,
     "metadata": {},
     "output_type": "execute_result"
    }
   ],
   "source": [
    "#pre_Process function defined - list required for lemmatization step, will include additional steps in other cases\n",
    "\n",
    "def pre_Process(sms):\n",
    "    \n",
    "    process = list(sms.split(\" \"))\n",
    "    return process\n",
    "\n",
    "#add processed column\n",
    "smsData['Processed'] = smsData['SMS Message'].apply(lambda x: pre_Process(x))\n",
    "\n",
    "#check dataframe data as anticipated\n",
    "smsData.head()"
   ]
  },
  {
   "cell_type": "code",
   "execution_count": 39,
   "id": "ed8a9ecc",
   "metadata": {
    "tags": []
   },
   "outputs": [
    {
     "data": {
      "text/html": [
       "<div>\n",
       "<style scoped>\n",
       "    .dataframe tbody tr th:only-of-type {\n",
       "        vertical-align: middle;\n",
       "    }\n",
       "\n",
       "    .dataframe tbody tr th {\n",
       "        vertical-align: top;\n",
       "    }\n",
       "\n",
       "    .dataframe thead th {\n",
       "        text-align: right;\n",
       "    }\n",
       "</style>\n",
       "<table border=\"1\" class=\"dataframe\">\n",
       "  <thead>\n",
       "    <tr style=\"text-align: right;\">\n",
       "      <th></th>\n",
       "      <th>Category</th>\n",
       "      <th>SMS Message</th>\n",
       "      <th>Processed</th>\n",
       "    </tr>\n",
       "  </thead>\n",
       "  <tbody>\n",
       "    <tr>\n",
       "      <th>0</th>\n",
       "      <td>ham</td>\n",
       "      <td>Go until jurong point, crazy.. Available only ...</td>\n",
       "      <td>[Go, until, jurong, point,, crazy.., Available...</td>\n",
       "    </tr>\n",
       "    <tr>\n",
       "      <th>1</th>\n",
       "      <td>ham</td>\n",
       "      <td>Ok lar... Joking wif u oni...</td>\n",
       "      <td>[Ok, lar..., Joking, wif, u, oni...]</td>\n",
       "    </tr>\n",
       "    <tr>\n",
       "      <th>2</th>\n",
       "      <td>spam</td>\n",
       "      <td>Free entry in 2 a wkly comp to win FA Cup fina...</td>\n",
       "      <td>[Free, entry, in, 2, a, wkly, comp, to, win, F...</td>\n",
       "    </tr>\n",
       "    <tr>\n",
       "      <th>3</th>\n",
       "      <td>ham</td>\n",
       "      <td>U dun say so early hor... U c already then say...</td>\n",
       "      <td>[U, dun, say, so, early, hor..., U, c, already...</td>\n",
       "    </tr>\n",
       "    <tr>\n",
       "      <th>4</th>\n",
       "      <td>ham</td>\n",
       "      <td>Nah I don't think he goes to usf, he lives aro...</td>\n",
       "      <td>[Nah, I, don't, think, he, go, to, usf,, he, l...</td>\n",
       "    </tr>\n",
       "  </tbody>\n",
       "</table>\n",
       "</div>"
      ],
      "text/plain": [
       "  Category                                        SMS Message  \\\n",
       "0      ham  Go until jurong point, crazy.. Available only ...   \n",
       "1      ham                      Ok lar... Joking wif u oni...   \n",
       "2     spam  Free entry in 2 a wkly comp to win FA Cup fina...   \n",
       "3      ham  U dun say so early hor... U c already then say...   \n",
       "4      ham  Nah I don't think he goes to usf, he lives aro...   \n",
       "\n",
       "                                           Processed  \n",
       "0  [Go, until, jurong, point,, crazy.., Available...  \n",
       "1               [Ok, lar..., Joking, wif, u, oni...]  \n",
       "2  [Free, entry, in, 2, a, wkly, comp, to, win, F...  \n",
       "3  [U, dun, say, so, early, hor..., U, c, already...  \n",
       "4  [Nah, I, don't, think, he, go, to, usf,, he, l...  "
      ]
     },
     "execution_count": 39,
     "metadata": {},
     "output_type": "execute_result"
    }
   ],
   "source": [
    "#define function for lemmatizing words\n",
    "\n",
    "def lemm (sms):\n",
    "    \n",
    "    lem = [lemmatizer.lemmatize(word) for word in sms]\n",
    "    return lem\n",
    "\n",
    "#replace processed column with lemmatized column\n",
    "smsData['Processed'] = smsData['Processed'].apply(lambda x: lemm(x))\n",
    "\n",
    "#check dataframe data as anticipated\n",
    "smsData.head()"
   ]
  },
  {
   "cell_type": "code",
   "execution_count": 40,
   "id": "9de00fee-bbfd-489c-8581-337a5a523824",
   "metadata": {},
   "outputs": [],
   "source": [
    "#split data into training/test set 70/30\n",
    "sms_train, sms_test, label_train, label_test = train_test_split(smsData['Processed'], smsData['Category'], test_size = 0.3, random_state=25)\n",
    "\n",
    "#labels as strings\n",
    "label_train = label_train.astype('str')\n",
    "label_test = label_test.astype('str')"
   ]
  },
  {
   "cell_type": "code",
   "execution_count": 24,
   "id": "86a298ec",
   "metadata": {},
   "outputs": [
    {
     "name": "stdout",
     "output_type": "stream",
     "text": [
      "['Free', 'entry', 'in', '2', 'a']\n",
      "['Go', 'until', 'jurong', 'point,', 'crazy..']\n"
     ]
    }
   ],
   "source": [
    "#create lists containing all spam words and all ham words\n",
    "\n",
    "def categorize():\n",
    "    spam = []\n",
    "    ham = []\n",
    "    \n",
    "    #spam words\n",
    "    for sms in smsData['Processed'][smsData['Category'] == 'spam']:\n",
    "        for word in sms:\n",
    "            spam.append(word)\n",
    "            \n",
    "    #ham words\n",
    "    for sms in smsData['Processed'][smsData['Category'] == 'ham']:\n",
    "        for word in sms:\n",
    "            ham.append(word)\n",
    "    \n",
    "    return spam, ham\n",
    "\n",
    "spam, ham = categorize()\n",
    "\n",
    "#check lists\n",
    "print(spam[ :5])\n",
    "print(ham[:5])"
   ]
  },
  {
   "cell_type": "code",
   "execution_count": 42,
   "id": "02db79dd",
   "metadata": {
    "tags": []
   },
   "outputs": [],
   "source": [
    "#define standard prediction function\n",
    "\n",
    "def predict(sms):\n",
    "    spam_counter = 0\n",
    "    ham_counter = 0\n",
    "    \n",
    "    #sum spam and ham words contained in message\n",
    "    for word in sms:\n",
    "        spam_counter += spam.count(word)\n",
    "        ham_counter += ham.count(word)\n",
    "     \n",
    "    #predict based on volume of spam/ham words in test message, if equal will be considered spam\n",
    "    if ham_counter > spam_counter:\n",
    "        x = \"ham\"\n",
    "    else:\n",
    "        x = \"spam\"\n",
    "    return x"
   ]
  },
  {
   "cell_type": "code",
   "execution_count": 26,
   "id": "e85bb8c8-33d7-4f12-9e07-4d6dd8974eb7",
   "metadata": {},
   "outputs": [],
   "source": [
    "#define classifier\n",
    "\n",
    "def clf(sms):\n",
    "    \n",
    "    labels = []\n",
    "    \n",
    "    #loop prediction function over input message\n",
    "    for message in sms:\n",
    "        x = predict(message)\n",
    "        labels.append(x)\n",
    "    \n",
    "    return (labels)"
   ]
  },
  {
   "cell_type": "code",
   "execution_count": 27,
   "id": "a043dff8-5d4b-4845-b47d-4936dd31821e",
   "metadata": {
    "tags": []
   },
   "outputs": [],
   "source": [
    "#run classifier over test data\n",
    "predict_class = clf(sms_test)"
   ]
  },
  {
   "cell_type": "code",
   "execution_count": 51,
   "id": "27a96154-6f01-40bc-a7c4-775a1544b5b0",
   "metadata": {},
   "outputs": [
    {
     "name": "stdout",
     "output_type": "stream",
     "text": [
      "\n",
      "True Positives: 12\n",
      "False Positives: 1\n",
      "True Negatives: 1442\n",
      "False Negatives: 217\n",
      "True Positive Rate: 5.24%\n",
      "Specificity: 99.93%\n",
      "False Positive Rate: 0.07%\n"
     ]
    },
    {
     "data": {
      "image/png": "[encoded data removed]",
      "text/plain": [
       "<Figure size 640x480 with 2 Axes>"
      ]
     },
     "metadata": {},
     "output_type": "display_data"
    }
   ],
   "source": [
    "#assign true negatives, false postives, false negatives and true positives in confusion matrix\n",
    "tn, fp, fn, tp = confusion_matrix(label_test, predict_class).ravel()\n",
    "\n",
    "#assign variable to confusion matrix and print confusion matrix metrics\n",
    "\n",
    "conf_mat = confusion_matrix(label_test, predict_class, labels = ['ham','spam'])\n",
    "print(f'\\nTrue Positives: {tp}')\n",
    "print(f'False Positives: {fp}')\n",
    "print(f'True Negatives: {tn}')\n",
    "print(f'False Negatives: {fn}')\n",
    "print(f'True Positive Rate: { round((tp / (tp + fn))*100, 2)}%')\n",
    "print(f'Specificity: { round((tn / (tn + fp))*100, 2)}%')\n",
    "print(f'False Positive Rate: { round((fp / (fp + tn))*100, 2)}%')\n",
    "\n",
    "cm_display = metrics.ConfusionMatrixDisplay(conf_mat, display_labels = ['ham', 'spam'])\n",
    "\n",
    "cm_display.plot()\n",
    "plt.show()"
   ]
  },
  {
   "cell_type": "code",
   "execution_count": null,
   "id": "ce8905a5-1bcc-4001-b0f2-16e91a223718",
   "metadata": {},
   "outputs": [],
   "source": []
  }
 ],
 "metadata": {
  "kernelspec": {
   "display_name": "Python 3 (ipykernel)",
   "language": "python",
   "name": "python3"
  },
  "language_info": {
   "codemirror_mode": {
    "name": "ipython",
    "version": 3
   },
   "file_extension": ".py",
   "mimetype": "text/x-python",
   "name": "python",
   "nbconvert_exporter": "python",
   "pygments_lexer": "ipython3",
   "version": "3.9.13"
  }
 },
 "nbformat": 4,
 "nbformat_minor": 5
}
